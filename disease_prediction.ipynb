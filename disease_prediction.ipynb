{
 "cells": [
  {
   "cell_type": "code",
   "execution_count": 3328,
   "metadata": {},
   "outputs": [],
   "source": [
    "import torch\n",
    "import numpy as np\n",
    "import pandas as pd\n",
    "import torch.nn as nn\n",
    "import torch.optim as optim\n",
    "import matplotlib.pyplot as plt\n",
    "from sklearn.utils import class_weight\n",
    "from torch.utils.data import DataLoader, Dataset, WeightedRandomSampler\n",
    "from sklearn.metrics import accuracy_score, f1_score, confusion_matrix, recall_score, precision_score, ConfusionMatrixDisplay\n",
    "from torch.optim import lr_scheduler\n",
    "import torch.nn.functional as F"
   ]
  },
  {
   "cell_type": "code",
   "execution_count": 3329,
   "metadata": {},
   "outputs": [],
   "source": [
    "np.random.seed(111)\n",
    "torch.manual_seed(111)\n",
    "torch.cuda.manual_seed(111)"
   ]
  },
  {
   "cell_type": "code",
   "execution_count": 3330,
   "metadata": {},
   "outputs": [],
   "source": [
    "data_train = pd.read_csv(\n",
    "    \"https://media.githubusercontent.com/media/psi3471/datasets/main/disease_prediction/disease_train.csv\"\n",
    ").drop(columns=[\"Unnamed: 0\"])\n",
    "\n",
    "data_test = pd.read_csv(\n",
    "    \"https://media.githubusercontent.com/media/psi3471/datasets/main/disease_prediction/disease_test.csv\"\n",
    ").drop(columns=[\"Unnamed: 0\"])"
   ]
  },
  {
   "cell_type": "code",
   "execution_count": 3331,
   "metadata": {},
   "outputs": [],
   "source": [
    "class CustomDataset(Dataset):\n",
    "    def __init__(self, dataframe):\n",
    "        self.features = dataframe.iloc[:, :-1].values\n",
    "        self.labels = dataframe.iloc[:, -1].values\n",
    "\n",
    "    def __len__(self):\n",
    "        return len(self.features)\n",
    "\n",
    "    def __getitem__(self, index):\n",
    "        x = torch.tensor(self.features[index], dtype=torch.float32)\n",
    "        y = torch.tensor(self.labels[index], dtype=torch.float32)\n",
    "        return x, y"
   ]
  },
  {
   "cell_type": "code",
   "execution_count": 3332,
   "metadata": {},
   "outputs": [],
   "source": [
    "train_dataset = CustomDataset(data_train)\n",
    "test_dataset = CustomDataset(data_test)"
   ]
  },
  {
   "cell_type": "code",
   "execution_count": 3333,
   "metadata": {},
   "outputs": [
    {
     "name": "stdout",
     "output_type": "stream",
     "text": [
      "tensor(1.4018)\n"
     ]
    }
   ],
   "source": [
    "class_weights = class_weight.compute_class_weight('balanced', classes = np.unique(data_train.iloc[:, -1].values), y = data_train.iloc[:, -1].values)\n",
    "class_weights=torch.tensor(class_weights[1],dtype=torch.float)\n",
    " \n",
    "print(class_weights)"
   ]
  },
  {
   "cell_type": "code",
   "execution_count": 3334,
   "metadata": {},
   "outputs": [],
   "source": [
    "Nb = 64\n",
    "train_loader = DataLoader(train_dataset, batch_size=Nb, shuffle=False)\n",
    "test_loader = DataLoader(test_dataset, batch_size=Nb, shuffle=False)"
   ]
  },
  {
   "cell_type": "code",
   "execution_count": 3335,
   "metadata": {},
   "outputs": [],
   "source": [
    "class ModelSimple(nn.Module):\n",
    "\n",
    "    # Geralmente, os blocos da rede são definidos no método __init__()\n",
    "    def __init__(self):\n",
    "        # Necessário chamar __init__() da classe mãe\n",
    "        super().__init__()\n",
    "        \n",
    "        # Uma das formas de se definir um modelo é a sequencial\n",
    "        self.model = nn.Sequential(\n",
    "            # Entrada com 8 elementos\n",
    "            nn.Linear(8, 1)\n",
    "        )\n",
    "\n",
    "    # O método forward() define como é feito o cálculo progressivo\n",
    "    # para obter a saída da rede, a partir da entrada x.\n",
    "    # Nesse caso, como foi definido um modelo sequencial em\n",
    "    # self.model, basta chamar self.model(x)\n",
    "    def forward(self, x):\n",
    "        output = self.model(x)\n",
    "        return output"
   ]
  },
  {
   "cell_type": "code",
   "execution_count": 3336,
   "metadata": {},
   "outputs": [],
   "source": [
    "class ModelComplex(nn.Module):\n",
    "    # Geralmente, os blocos da rede são definidos no método __init__()\n",
    "    def __init__(self, neurons_list, args):\n",
    "        # Necessário chamar __init__() da classe mãe\n",
    "        super().__init__()\n",
    "        \n",
    "        self.neurons_list = neurons_list\n",
    "        \n",
    "        self.n_layers = len(neurons_list)\n",
    "\n",
    "        self.args = args\n",
    "\n",
    "        # self.dropout = nn.Dropout(Dropout[1]) if Dropout[0] == True else nn.Dropout(0)\n",
    "        # self.batch_normalization = nn.BatchNorm1d\n",
    "        # self.activation_function = Activation\n",
    "        \n",
    "        self.layers = nn.ModuleDict()\n",
    "        self.layers[\"input\"] = nn.Linear(in_features = 8, out_features = neurons_list[0])\n",
    "\n",
    "        for i in range(self.n_layers-1):\n",
    "            self.layers[f\"hidden_{i}\"] = nn.Sequential(\n",
    "                                         nn.Linear(neurons_list[i], neurons_list[i+1]),\n",
    "                                         nn.BatchNorm1d(neurons_list[i+1]),\n",
    "                                         *args)\n",
    "\n",
    "        self.layers[\"output\"] = nn.Linear(in_features=neurons_list[-1], out_features=1)\n",
    "        \n",
    "    # O método forward() define como é feito o cálculo progressivo\n",
    "    # para obter a saída da rede, a partir da entrada x.\n",
    "    # Nesse caso, como foi definido um modelo sequencial em\n",
    "    # self.model, basta chamar self.model(x)\n",
    "    def forward(self, x):\n",
    "        x = self.layers[\"input\"](x)\n",
    "        \n",
    "        for i in range(self.n_layers-1):\n",
    "            x = self.layers[f\"hidden_{i}\"](x)\n",
    "            \n",
    "        return self.layers[\"output\"](x)"
   ]
  },
  {
   "cell_type": "code",
   "execution_count": 3337,
   "metadata": {},
   "outputs": [],
   "source": [
    "def train(model, filename, num_epochs = 100, learning_rate = 0.1):\n",
    "    # Define the training parameters\n",
    "    device = torch.device(\"cuda\" if torch.cuda.is_available() else \"cpu\")\n",
    "\n",
    "    # Initialize the model, criterion, and optimizer\n",
    "    model.to(device)\n",
    "    criterion = nn.BCEWithLogitsLoss(pos_weight=class_weights)\n",
    "    optimizer = optim.Adam(model.parameters(), lr=learning_rate)\n",
    "    scheduler = lr_scheduler.ExponentialLR(optimizer, gamma=0.95)\n",
    "\n",
    "    # Create empty lists to store the losses for plotting\n",
    "    train_losses = []\n",
    "    valid_losses = []\n",
    "\n",
    "    # Training loop\n",
    "    for epoch in range(num_epochs):\n",
    "        # Training\n",
    "        model.train()\n",
    "        train_loss = 0.0\n",
    "        for inputs, labels in train_loader:\n",
    "            inputs = inputs.to(device)\n",
    "            labels = labels.to(device).unsqueeze(1)\n",
    "\n",
    "            optimizer.zero_grad()\n",
    "            outputs = model(inputs)\n",
    "\n",
    "            loss = criterion(outputs, labels)\n",
    "\n",
    "            loss.backward()\n",
    "            optimizer.step()\n",
    "\n",
    "            train_loss += loss.item()\n",
    "\n",
    "        # Calculate average training loss for the epoch\n",
    "        train_loss /= len(train_loader)\n",
    "        train_losses.append(train_loss)\n",
    "\n",
    "        # Validation\n",
    "        model.eval()\n",
    "        valid_loss = 0.0\n",
    "        with torch.no_grad():\n",
    "            for inputs, labels in test_loader:\n",
    "                inputs = inputs.to(device)\n",
    "                labels = labels.to(device).unsqueeze(1)\n",
    "\n",
    "                outputs = model(inputs)\n",
    "\n",
    "                loss = criterion(outputs, labels)\n",
    "\n",
    "                valid_loss += loss.item()\n",
    "\n",
    "        # Calculate average validation loss for the epoch\n",
    "        valid_loss /= len(test_loader)\n",
    "        valid_losses.append(valid_loss)\n",
    "\n",
    "        scheduler.step()\n",
    "        \n",
    "        # Print the training and validation losses for each epoch\n",
    "        if (epoch + 1) % (num_epochs / 10) == 0:\n",
    "            print(f\"Epoch {epoch+1}/{num_epochs} - Train Loss: {train_loss:.4f} - Valid Loss: {valid_loss:.4f}\")\n",
    "\n",
    "    torch.save(model.state_dict(), filename)\n",
    "    # Plot the training and validation losses\n",
    "    plt.plot(train_losses, label=\"Train Loss\")\n",
    "    plt.plot(valid_losses, label=\"Valid Loss\")\n",
    "    plt.xlabel(\"Epoch\")\n",
    "    plt.ylabel(\"Loss\")\n",
    "    plt.legend()\n",
    "    plt.show()"
   ]
  },
  {
   "cell_type": "code",
   "execution_count": 3338,
   "metadata": {},
   "outputs": [],
   "source": [
    "def test(model, filename):\n",
    "    device = torch.device(\"cuda\" if torch.cuda.is_available() else \"cpu\")\n",
    "    \n",
    "    model.load_state_dict(torch.load(filename))\n",
    "    model.eval()\n",
    "    total_correct = 0\n",
    "    total_samples = 0\n",
    "    true_labels = []\n",
    "    predicted_labels = []\n",
    "\n",
    "    with torch.no_grad():\n",
    "        for inputs, labels in test_loader:\n",
    "            inputs = inputs.to(device)\n",
    "            labels = labels.to(device).unsqueeze(1)\n",
    "\n",
    "            outputs = model(inputs)\n",
    "            predicted = torch.round(torch.sigmoid(outputs))\n",
    "\n",
    "            total_correct += (predicted == labels).sum().item()\n",
    "            total_samples += labels.size(0)\n",
    "\n",
    "            true_labels.extend(labels.cpu().numpy())\n",
    "            predicted_labels.extend(predicted.cpu().numpy())\n",
    "\n",
    "    # Calculate test accuracy\n",
    "    accuracy = accuracy_score(true_labels, predicted_labels)\n",
    "    print(f'Test Accuracy: {accuracy * 100:.2f} %')\n",
    "\n",
    "    # Calculate test precision\n",
    "    precision = precision_score(true_labels, predicted_labels)\n",
    "    print(f'Test Precision: {precision*100:.2f} %')\n",
    "\n",
    "    # Calculate test recall\n",
    "    recall = recall_score(true_labels, predicted_labels)\n",
    "    print(f'Test recall: {recall*100:.2f} %')\n",
    "\n",
    "    # Calculate test F1-score\n",
    "    f1 = f1_score(true_labels, predicted_labels)\n",
    "    print(f'Test F1-score: {f1*100:.2f} %')\n",
    "\n",
    "    # Calculate test confusion matrix\n",
    "    confusion = confusion_matrix(true_labels, predicted_labels)\n",
    "    disp = ConfusionMatrixDisplay(confusion_matrix = confusion)\n",
    "    disp.plot()\n",
    "    print('Test Confusion Matrix:')\n",
    "    print(confusion)\n",
    "    plt.show()"
   ]
  },
  {
   "cell_type": "code",
   "execution_count": 3339,
   "metadata": {},
   "outputs": [
    {
     "name": "stdout",
     "output_type": "stream",
     "text": [
      "Epoch 10/100 - Train Loss: 1.2493 - Valid Loss: 0.6837\n",
      "Epoch 20/100 - Train Loss: 0.7374 - Valid Loss: 0.6558\n",
      "Epoch 30/100 - Train Loss: 0.6842 - Valid Loss: 0.6163\n",
      "Epoch 40/100 - Train Loss: 0.6638 - Valid Loss: 0.6138\n",
      "Epoch 50/100 - Train Loss: 0.7061 - Valid Loss: 0.6520\n",
      "Epoch 60/100 - Train Loss: 0.6530 - Valid Loss: 0.6088\n",
      "Epoch 70/100 - Train Loss: 0.6455 - Valid Loss: 0.6115\n",
      "Epoch 80/100 - Train Loss: 0.6426 - Valid Loss: 0.6127\n",
      "Epoch 90/100 - Train Loss: 0.6411 - Valid Loss: 0.6132\n",
      "Epoch 100/100 - Train Loss: 0.6402 - Valid Loss: 0.6134\n"
     ]
    },
    {
     "data": {
      "image/png": "[encoded data removed]",
      "text/plain": [
       "<Figure size 432x288 with 1 Axes>"
      ]
     },
     "metadata": {
      "needs_background": "light"
     },
     "output_type": "display_data"
    }
   ],
   "source": [
    "train(ModelSimple(), \"model_simple.pt\", num_epochs = 100)"
   ]
  },
  {
   "cell_type": "code",
   "execution_count": 3340,
   "metadata": {},
   "outputs": [
    {
     "name": "stdout",
     "output_type": "stream",
     "text": [
      "Test Accuracy: 74.68 %\n",
      "Test Precision: 58.93 %\n",
      "Test recall: 67.35 %\n",
      "Test F1-score: 62.86 %\n",
      "Test Confusion Matrix:\n",
      "[[82 23]\n",
      " [16 33]]\n"
     ]
    },
    {
     "data": {
      "image/png": "[encoded data removed]",
      "text/plain": [
       "<Figure size 432x288 with 2 Axes>"
      ]
     },
     "metadata": {
      "needs_background": "light"
     },
     "output_type": "display_data"
    }
   ],
   "source": [
    "test(ModelSimple(), \"model_simple.pt\")"
   ]
  },
  {
   "cell_type": "code",
   "execution_count": 3341,
   "metadata": {},
   "outputs": [
    {
     "name": "stdout",
     "output_type": "stream",
     "text": [
      "Epoch 20/200 - Train Loss: 0.6853 - Valid Loss: 0.6149\n",
      "Epoch 40/200 - Train Loss: 0.6399 - Valid Loss: 0.6249\n",
      "Epoch 60/200 - Train Loss: 0.6568 - Valid Loss: 0.6205\n",
      "Epoch 80/200 - Train Loss: 0.6656 - Valid Loss: 0.6145\n",
      "Epoch 100/200 - Train Loss: 0.6324 - Valid Loss: 0.6145\n",
      "Epoch 120/200 - Train Loss: 0.6349 - Valid Loss: 0.6136\n",
      "Epoch 140/200 - Train Loss: 0.6639 - Valid Loss: 0.6154\n",
      "Epoch 160/200 - Train Loss: 0.6407 - Valid Loss: 0.6160\n",
      "Epoch 180/200 - Train Loss: 0.6498 - Valid Loss: 0.6154\n",
      "Epoch 200/200 - Train Loss: 0.6354 - Valid Loss: 0.6156\n"
     ]
    },
    {
     "data": {
      "image/png": "[encoded data removed]",
      "text/plain": [
       "<Figure size 432x288 with 1 Axes>"
      ]
     },
     "metadata": {
      "needs_background": "light"
     },
     "output_type": "display_data"
    }
   ],
   "source": [
    "neuron_list = [16, 32, 64, 64, 32, 16]\n",
    "\n",
    "activation_function = nn.ReLU()\n",
    "dropout = nn.Dropout(0.5)\n",
    "\n",
    "args = [activation_function, dropout]\n",
    "\n",
    "model_complex = ModelComplex(neuron_list, args)\n",
    "\n",
    "train(model_complex, \"model_complex.pt\", num_epochs = 200)"
   ]
  },
  {
   "cell_type": "code",
   "execution_count": 3342,
   "metadata": {},
   "outputs": [
    {
     "name": "stdout",
     "output_type": "stream",
     "text": [
      "Test Accuracy: 77.27 %\n",
      "Test Precision: 64.00 %\n",
      "Test recall: 65.31 %\n",
      "Test F1-score: 64.65 %\n",
      "Test Confusion Matrix:\n",
      "[[87 18]\n",
      " [17 32]]\n"
     ]
    },
    {
     "data": {
      "image/png": "[encoded data removed]",
      "text/plain": [
       "<Figure size 432x288 with 2 Axes>"
      ]
     },
     "metadata": {
      "needs_background": "light"
     },
     "output_type": "display_data"
    }
   ],
   "source": [
    "test(model_complex, \"model_complex.pt\")"
   ]
  }
 ],
 "metadata": {
  "kernelspec": {
   "display_name": "Python 3",
   "language": "python",
   "name": "python3"
  },
  "language_info": {
   "codemirror_mode": {
    "name": "ipython",
    "version": 3
   },
   "file_extension": ".py",
   "mimetype": "text/x-python",
   "name": "python",
   "nbconvert_exporter": "python",
   "pygments_lexer": "ipython3",
   "version": "3.9.13"
  },
  "orig_nbformat": 4
 },
 "nbformat": 4,
 "nbformat_minor": 2
}
