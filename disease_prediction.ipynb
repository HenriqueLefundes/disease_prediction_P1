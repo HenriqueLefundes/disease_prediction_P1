{
 "cells": [
  {
   "cell_type": "code",
   "execution_count": 179,
   "metadata": {},
   "outputs": [],
   "source": [
    "import torch\n",
    "import numpy as np\n",
    "import pandas as pd\n",
    "import torch.nn as nn\n",
    "import torch.optim as optim\n",
    "import matplotlib.pyplot as plt\n",
    "from sklearn.utils import class_weight\n",
    "from torch.utils.data import DataLoader, Dataset\n",
    "from sklearn.metrics import accuracy_score, f1_score, confusion_matrix, recall_score, precision_score, ConfusionMatrixDisplay\n",
    "from torch.optim import lr_scheduler"
   ]
  },
  {
   "cell_type": "code",
   "execution_count": 1,
   "metadata": {},
   "outputs": [
    {
     "data": {
      "text/html": [
       "<img src=\"photos/photo_henrique.jpg\" width=\"400\"/>"
      ],
      "text/plain": [
       "<IPython.core.display.Image object>"
      ]
     },
     "execution_count": 1,
     "metadata": {},
     "output_type": "execute_result"
    }
   ],
   "source": [
    "from IPython.display import Image\n",
    "# get the image\n",
    "Image(url=\"photos/photo_henrique.jpg\", width=400)"
   ]
  },
  {
   "cell_type": "code",
   "execution_count": 181,
   "metadata": {},
   "outputs": [],
   "source": [
    "data_train = pd.read_csv(\n",
    "    \"https://media.githubusercontent.com/media/psi3471/datasets/main/disease_prediction/disease_train.csv\"\n",
    ").drop(columns=[\"Unnamed: 0\"])\n",
    "\n",
    "data_test = pd.read_csv(\n",
    "    \"https://media.githubusercontent.com/media/psi3471/datasets/main/disease_prediction/disease_test.csv\"\n",
    ").drop(columns=[\"Unnamed: 0\"])"
   ]
  },
  {
   "cell_type": "code",
   "execution_count": 182,
   "metadata": {},
   "outputs": [],
   "source": [
    "# Método usual para utilizar dataset em Pandas direto com o Dataloader\n",
    "\n",
    "class CustomDataset(Dataset):\n",
    "    def __init__(self, dataframe):\n",
    "        self.features = dataframe.iloc[:, :-1].values\n",
    "        self.labels = dataframe.iloc[:, -1].values\n",
    "\n",
    "    def __len__(self):\n",
    "        return len(self.features)\n",
    "\n",
    "    def __getitem__(self, index):\n",
    "        x = torch.tensor(self.features[index], dtype=torch.float32)\n",
    "        y = torch.tensor(self.labels[index], dtype=torch.float32)\n",
    "        return x, y"
   ]
  },
  {
   "cell_type": "code",
   "execution_count": 183,
   "metadata": {},
   "outputs": [],
   "source": [
    "# Instancia objeto para os iteradores do DataLoader\n",
    "train_dataset = CustomDataset(data_train)\n",
    "test_dataset = CustomDataset(data_test)"
   ]
  },
  {
   "cell_type": "code",
   "execution_count": 184,
   "metadata": {},
   "outputs": [
    {
     "name": "stdout",
     "output_type": "stream",
     "text": [
      "tensor(1.4018)\n"
     ]
    }
   ],
   "source": [
    "# Calcula peso que deve ser dado para a classe com rótulo igual a '1' (importante para melhorar classificação de '1')\n",
    "class_weights = class_weight.compute_class_weight('balanced', classes = np.unique(data_train.iloc[:, -1].values), y = data_train.iloc[:, -1].values)\n",
    "class_weights=torch.tensor(class_weights[1],dtype=torch.float)\n",
    " \n",
    "print(class_weights)"
   ]
  },
  {
   "cell_type": "code",
   "execution_count": 185,
   "metadata": {},
   "outputs": [],
   "source": [
    "Nb = 64\n",
    "# Carrega datasets\n",
    "train_loader = DataLoader(train_dataset, batch_size=Nb, shuffle=False)\n",
    "test_loader = DataLoader(test_dataset, batch_size=Nb, shuffle=False)"
   ]
  },
  {
   "cell_type": "code",
   "execution_count": 186,
   "metadata": {},
   "outputs": [],
   "source": [
    "class ModelSimple(nn.Module):\n",
    "\n",
    "    def __init__(self):\n",
    "        super().__init__()\n",
    "        \n",
    "        self.model = nn.Sequential(\n",
    "            # Entrada com 8 elementos, sem função de ativação\n",
    "            nn.Linear(8, 1)\n",
    "        )\n",
    "\n",
    "    def forward(self, x):\n",
    "        output = self.model(x)\n",
    "        return output"
   ]
  },
  {
   "cell_type": "code",
   "execution_count": 187,
   "metadata": {},
   "outputs": [],
   "source": [
    "class ModelComplex(nn.Module):\n",
    "    def __init__(self, neurons_list, args):\n",
    "        super().__init__()\n",
    "        \n",
    "        self.neurons_list = neurons_list\n",
    "        \n",
    "        self.n_layers = len(neurons_list)\n",
    "\n",
    "        self.args = args\n",
    "\n",
    "        \n",
    "        self.layers = nn.ModuleDict()\n",
    "        self.layers[\"input\"] = nn.Linear(in_features = 8, out_features = neurons_list[0])\n",
    "\n",
    "        # Itera sobre a lista de neurônios e os conecta, também coloca o que estiver em args para cada camada\n",
    "        for i in range(self.n_layers-1):\n",
    "            self.layers[f\"hidden_{i}\"] = nn.Sequential(\n",
    "                                         nn.Linear(neurons_list[i], neurons_list[i+1]),\n",
    "                                         nn.BatchNorm1d(neurons_list[i+1]),\n",
    "                                         *args)\n",
    "\n",
    "        self.layers[\"output\"] = nn.Linear(in_features=neurons_list[-1], out_features=1)\n",
    "        \n",
    "    def forward(self, x):\n",
    "        x = self.layers[\"input\"](x)\n",
    "        \n",
    "        # Loop para aplicar as camadas criadas\n",
    "        for i in range(self.n_layers-1):\n",
    "            x = self.layers[f\"hidden_{i}\"](x)\n",
    "\n",
    "        return self.layers[\"output\"](x)"
   ]
  },
  {
   "cell_type": "code",
   "execution_count": 188,
   "metadata": {},
   "outputs": [],
   "source": [
    "def train(model, filename, num_epochs = 100, learning_rate = 0.1):\n",
    "    # Define the training parameters\n",
    "    device = torch.device(\"cuda\" if torch.cuda.is_available() else \"cpu\")\n",
    "    model.to(device)\n",
    "\n",
    "    # Note que a função custo está com peso class_weights para a classe positiva ('1')\n",
    "    criterion = nn.BCEWithLogitsLoss(pos_weight=class_weights) \n",
    "\n",
    "    # Otimizador ADAM visto em aula\n",
    "    optimizer = optim.Adam(model.parameters(), lr=learning_rate)\n",
    "\n",
    "    # Learning Rate variável com decaimento exponencial, a cada época o novo valor é 95% do anterior.\n",
    "    scheduler = lr_scheduler.ExponentialLR(optimizer, gamma=0.95)\n",
    "\n",
    "    train_losses = []\n",
    "    valid_losses = []\n",
    "\n",
    "    # Training loop\n",
    "    for epoch in range(num_epochs):\n",
    "        # Training\n",
    "        model.train()\n",
    "        train_loss = 0.0\n",
    "        for inputs, labels in train_loader:\n",
    "            inputs = inputs.to(device)\n",
    "            labels = labels.to(device).unsqueeze(1) # Necessário para ajustar dimensões do problema\n",
    "\n",
    "            optimizer.zero_grad()\n",
    "            outputs = model(inputs)\n",
    "\n",
    "            loss = criterion(outputs, labels)\n",
    "\n",
    "            loss.backward()\n",
    "            optimizer.step()\n",
    "\n",
    "            train_loss += loss.item()\n",
    "\n",
    "        # Média do training loss\n",
    "        train_loss /= len(train_loader)\n",
    "        train_losses.append(train_loss)\n",
    "\n",
    "        # Validação\n",
    "        model.eval()\n",
    "        valid_loss = 0.0\n",
    "        with torch.no_grad():\n",
    "            for inputs, labels in test_loader:\n",
    "                inputs = inputs.to(device)\n",
    "                labels = labels.to(device).unsqueeze(1) # Necessário para ajustar dimensões do problema\n",
    "\n",
    "                outputs = model(inputs)\n",
    "\n",
    "                loss = criterion(outputs, labels)\n",
    "\n",
    "                valid_loss += loss.item()\n",
    "\n",
    "        # Média do validation loss\n",
    "        valid_loss /= len(test_loader)\n",
    "        valid_losses.append(valid_loss)\n",
    "\n",
    "        # Ajusta learning rate\n",
    "        scheduler.step()\n",
    "        \n",
    "        # Exibe os resultados da época (feito de forma que sempre teremos 10 prints na tela)\n",
    "        if (epoch + 1) % (num_epochs / 10) == 0:\n",
    "            print(f\"Epoch {epoch+1}/{num_epochs} - Train Loss: {train_loss:.4f} - Valid Loss: {valid_loss:.4f}\")\n",
    "\n",
    "    # Salva Modelo\n",
    "    torch.save(model.state_dict(), filename)\n",
    "\n",
    "    # Plots\n",
    "    plt.plot(train_losses, label=\"Train Loss\")\n",
    "    plt.plot(valid_losses, label=\"Valid Loss\")\n",
    "    plt.xlabel(\"Epoch\")\n",
    "    plt.ylabel(\"Loss\")\n",
    "    plt.legend()\n",
    "    plt.show()"
   ]
  },
  {
   "cell_type": "code",
   "execution_count": 189,
   "metadata": {},
   "outputs": [],
   "source": [
    "def test(model, filename):\n",
    "    device = torch.device(\"cuda\" if torch.cuda.is_available() else \"cpu\")\n",
    "    # Carrega pesos no modelo\n",
    "    model.load_state_dict(torch.load(filename))\n",
    "    model.eval()\n",
    "    total_correct = 0\n",
    "    total_samples = 0\n",
    "    true_labels = []\n",
    "    predicted_labels = []\n",
    "\n",
    "    with torch.no_grad():\n",
    "        for inputs, labels in test_loader:\n",
    "            inputs = inputs.to(device)\n",
    "            labels = labels.to(device).unsqueeze(1)\n",
    "\n",
    "            outputs = model(inputs)\n",
    "            # Calcula predição, sigmoide aplicado pois estamos utilizando logits\n",
    "            predicted = torch.round(torch.sigmoid(outputs))\n",
    "\n",
    "            total_correct += (predicted == labels).sum().item()\n",
    "            total_samples += labels.size(0)\n",
    "\n",
    "            true_labels.extend(labels.cpu().numpy())\n",
    "            predicted_labels.extend(predicted.cpu().numpy())\n",
    "\n",
    "    # Calcula accuracy\n",
    "    accuracy = accuracy_score(true_labels, predicted_labels)\n",
    "    print(f'Test Accuracy: {accuracy * 100:.2f} %')\n",
    "\n",
    "    # Calculaprecision\n",
    "    precision = precision_score(true_labels, predicted_labels)\n",
    "    print(f'Test Precision: {precision*100:.2f} %')\n",
    "\n",
    "    # Calcula recall\n",
    "    recall = recall_score(true_labels, predicted_labels)\n",
    "    print(f'Test recall: {recall*100:.2f} %')\n",
    "\n",
    "    # Calcula F1-score\n",
    "    f1 = f1_score(true_labels, predicted_labels)\n",
    "    print(f'Test F1-score: {f1*100:.2f} %')\n",
    "\n",
    "    # Calcula confusion matrix\n",
    "    confusion = confusion_matrix(true_labels, predicted_labels)\n",
    "    disp = ConfusionMatrixDisplay(confusion_matrix = confusion)\n",
    "    disp.plot()\n",
    "    print('Test Confusion Matrix:')\n",
    "    print(confusion)\n",
    "    plt.show()\n",
    "\n",
    "    return accuracy, precision, recall, f1"
   ]
  },
  {
   "cell_type": "code",
   "execution_count": 190,
   "metadata": {},
   "outputs": [
    {
     "name": "stdout",
     "output_type": "stream",
     "text": [
      "Epoch 10/100 - Train Loss: 0.9442 - Valid Loss: 0.7678\n",
      "Epoch 20/100 - Train Loss: 0.7319 - Valid Loss: 0.6555\n",
      "Epoch 30/100 - Train Loss: 0.6859 - Valid Loss: 0.6158\n",
      "Epoch 40/100 - Train Loss: 0.6643 - Valid Loss: 0.6143\n",
      "Epoch 50/100 - Train Loss: 0.7102 - Valid Loss: 0.6585\n",
      "Epoch 60/100 - Train Loss: 0.6535 - Valid Loss: 0.6094\n",
      "Epoch 70/100 - Train Loss: 0.6461 - Valid Loss: 0.6121\n",
      "Epoch 80/100 - Train Loss: 0.6433 - Valid Loss: 0.6132\n",
      "Epoch 90/100 - Train Loss: 0.6418 - Valid Loss: 0.6137\n",
      "Epoch 100/100 - Train Loss: 0.6409 - Valid Loss: 0.6140\n"
     ]
    },
    {
     "data": {
      "image/png": "[encoded data removed]",
      "text/plain": [
       "<Figure size 432x288 with 1 Axes>"
      ]
     },
     "metadata": {
      "needs_background": "light"
     },
     "output_type": "display_data"
    }
   ],
   "source": [
    "train(ModelSimple(), \"model_simple.pt\", num_epochs = 100)"
   ]
  },
  {
   "cell_type": "code",
   "execution_count": 191,
   "metadata": {},
   "outputs": [
    {
     "name": "stdout",
     "output_type": "stream",
     "text": [
      "Test Accuracy: 74.68 %\n",
      "Test Precision: 58.93 %\n",
      "Test recall: 67.35 %\n",
      "Test F1-score: 62.86 %\n",
      "Test Confusion Matrix:\n",
      "[[82 23]\n",
      " [16 33]]\n"
     ]
    },
    {
     "data": {
      "image/png": "[encoded data removed]",
      "text/plain": [
       "<Figure size 432x288 with 2 Axes>"
      ]
     },
     "metadata": {
      "needs_background": "light"
     },
     "output_type": "display_data"
    },
    {
     "data": {
      "text/plain": [
       "(0.7467532467532467, 0.5892857142857143, 0.673469387755102, 0.6285714285714286)"
      ]
     },
     "execution_count": 191,
     "metadata": {},
     "output_type": "execute_result"
    }
   ],
   "source": [
    "test(ModelSimple(), \"model_simple.pt\")"
   ]
  },
  {
   "cell_type": "code",
   "execution_count": 202,
   "metadata": {},
   "outputs": [
    {
     "name": "stdout",
     "output_type": "stream",
     "text": [
      "Epoch 10/100 - Train Loss: 0.6338 - Valid Loss: 0.6134\n",
      "Epoch 20/100 - Train Loss: 0.5950 - Valid Loss: 0.6063\n",
      "Epoch 30/100 - Train Loss: 0.5879 - Valid Loss: 0.6167\n",
      "Epoch 40/100 - Train Loss: 0.5587 - Valid Loss: 0.6170\n",
      "Epoch 50/100 - Train Loss: 0.5997 - Valid Loss: 0.6152\n",
      "Epoch 60/100 - Train Loss: 0.5921 - Valid Loss: 0.6149\n",
      "Epoch 70/100 - Train Loss: 0.5621 - Valid Loss: 0.6188\n",
      "Epoch 80/100 - Train Loss: 0.5629 - Valid Loss: 0.6201\n",
      "Epoch 90/100 - Train Loss: 0.5572 - Valid Loss: 0.6204\n",
      "Epoch 100/100 - Train Loss: 0.5751 - Valid Loss: 0.6200\n"
     ]
    },
    {
     "data": {
      "image/png": "[encoded data removed]",
      "text/plain": [
       "<Figure size 432x288 with 1 Axes>"
      ]
     },
     "metadata": {
      "needs_background": "light"
     },
     "output_type": "display_data"
    }
   ],
   "source": [
    "# Define camada oculta da rede\n",
    "neuron_list = [8, 16, 8]\n",
    "\n",
    "# Define dropout e função de ativação da camada oculta\n",
    "activation_function = nn.Sigmoid()\n",
    "dropout = nn.Dropout(0.5)\n",
    "\n",
    "args = [activation_function, dropout]\n",
    "\n",
    "model_complex = ModelComplex(neuron_list, args)\n",
    "\n",
    "train(model_complex, \"model_complex.pt\", num_epochs = 100)"
   ]
  },
  {
   "cell_type": "code",
   "execution_count": 203,
   "metadata": {},
   "outputs": [
    {
     "name": "stdout",
     "output_type": "stream",
     "text": [
      "Test Accuracy: 77.27 %\n",
      "Test Precision: 64.00 %\n",
      "Test recall: 65.31 %\n",
      "Test F1-score: 64.65 %\n",
      "Test Confusion Matrix:\n",
      "[[87 18]\n",
      " [17 32]]\n"
     ]
    },
    {
     "data": {
      "image/png": "[encoded data removed]",
      "text/plain": [
       "<Figure size 432x288 with 2 Axes>"
      ]
     },
     "metadata": {
      "needs_background": "light"
     },
     "output_type": "display_data"
    },
    {
     "data": {
      "text/plain": [
       "(0.7727272727272727, 0.64, 0.6530612244897959, 0.6464646464646464)"
      ]
     },
     "execution_count": 203,
     "metadata": {},
     "output_type": "execute_result"
    }
   ],
   "source": [
    "test(model_complex, \"model_complex.pt\")"
   ]
  },
  {
   "attachments": {},
   "cell_type": "markdown",
   "metadata": {},
   "source": [
    "## Rede Simples\n",
    "\n",
    "A rede simples, com um único neurônio, obtêm resultados muito próximos em todas os treinos. \n",
    "Em média, o resultado da rede simples, treinando com BCELossWithLogits (com peso para melhorar treinamento para classe '1'), ExponentialLR e otimizador ADAM é:\n",
    "\n",
    "Acurácia = $74.68 \\%$\n",
    "\n",
    "Precision = $58.93 \\%$\n",
    "\n",
    "Recall = $67.35 \\%$\n",
    "\n",
    "F1-score = $62.86 \\%$\n",
    "\n",
    "Confusion Matrix:\n",
    "$$\n",
    "\\left[\\begin{matrix}\n",
    "82 & 23 \\\\\n",
    "16 & 33\n",
    "\\end{matrix}\\right]\n",
    "$$\n",
    "\n",
    "## Rede Complexa\n",
    "\n",
    "A rede complexa introduz **dropout**, **normalização de batch** e **camadas ocultas** (8, 16, 8). Testou-se diversas combinaões de camadas ocultas mas em geral não houve ganhos ao aumentar a camada oculta excessivamente.\n",
    "\n",
    "Acurácia = $77.27 \\%$\n",
    "\n",
    "Precision = $64.00 \\%$\n",
    "\n",
    "Recall = $65.31 \\%$\n",
    "\n",
    "F1-score = $64.65\\%$\n",
    "\n",
    "Confusion Matrix:\n",
    "$$\n",
    "\\left[\\begin{matrix}\n",
    "87 & 18 \\\\\n",
    "17 & 32\n",
    "\\end{matrix}\\right]\n",
    "$$\n",
    "\n",
    "## Resumo das técnicas utilizadas\n",
    "- **Função de custo**: BCELossWithLogits com pesos para classe '1'\n",
    "\n",
    "- **Função de ativação**: Sigmoid()\n",
    "\n",
    "- **Técnicas adicionais**: Dropout() e Learning Rate variável (exponencial)\n",
    "\n",
    "## Comentários finais\n",
    "\n",
    "Uma das alterações que permitiu desempenho razoável das redes foi o ajuste de pesos para as classes iguais a '1', dado que o dataset possue menos exemplos dessa classe o treinamento muitas vezes enviezava para a classe '0', detectando somente saídas iguais a '0'. O uso de pesos permitiu aumentar a revocação da rede, detectando melhor os rótulos iguais '1'.\n",
    "Algumas treinamentos chegaram próximos de 80% de acurácia, entretanto esses modelos tendiam muito para a classificação de uma única classe. O objetivo dos ajustes realizados foi equilibrar o modelo para que ele possa detectar ambas as classes de forma parecida."
   ]
  }
 ],
 "metadata": {
  "kernelspec": {
   "display_name": "Python 3",
   "language": "python",
   "name": "python3"
  },
  "language_info": {
   "codemirror_mode": {
    "name": "ipython",
    "version": 3
   },
   "file_extension": ".py",
   "mimetype": "text/x-python",
   "name": "python",
   "nbconvert_exporter": "python",
   "pygments_lexer": "ipython3",
   "version": "3.9.13"
  },
  "orig_nbformat": 4
 },
 "nbformat": 4,
 "nbformat_minor": 2
}
